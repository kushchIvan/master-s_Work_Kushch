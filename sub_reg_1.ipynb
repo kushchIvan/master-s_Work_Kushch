{
 "cells": [
  {
   "cell_type": "code",
   "execution_count": 1,
   "id": "1cec5bea",
   "metadata": {},
   "outputs": [
    {
     "name": "stdout",
     "output_type": "stream",
     "text": [
      "Detected Jupyter notebook. Loading juliacall extension. Set `PYSR_AUTOLOAD_EXTENSIONS=no` to disable.\n"
     ]
    }
   ],
   "source": [
    "import pysr as ps \n",
    "import numpy as np \n",
    "import pandas as pd \n",
    "import matplotlib.pyplot as plt\n",
    "import seaborn as sns"
   ]
  },
  {
   "cell_type": "code",
   "execution_count": 5,
   "id": "af5b7133",
   "metadata": {},
   "outputs": [],
   "source": [
    "df = pd.read_table('1train.dat' ,sep=\"\\s+\" , usecols=['x', 'y'])"
   ]
  },
  {
   "cell_type": "code",
   "execution_count": 6,
   "id": "5a95ce0a",
   "metadata": {},
   "outputs": [
    {
     "data": {
      "text/html": [
       "<div>\n",
       "<style scoped>\n",
       "    .dataframe tbody tr th:only-of-type {\n",
       "        vertical-align: middle;\n",
       "    }\n",
       "\n",
       "    .dataframe tbody tr th {\n",
       "        vertical-align: top;\n",
       "    }\n",
       "\n",
       "    .dataframe thead th {\n",
       "        text-align: right;\n",
       "    }\n",
       "</style>\n",
       "<table border=\"1\" class=\"dataframe\">\n",
       "  <thead>\n",
       "    <tr style=\"text-align: right;\">\n",
       "      <th></th>\n",
       "      <th>x</th>\n",
       "      <th>y</th>\n",
       "    </tr>\n",
       "  </thead>\n",
       "  <tbody>\n",
       "    <tr>\n",
       "      <th>0</th>\n",
       "      <td>0.598418</td>\n",
       "      <td>0.000210</td>\n",
       "    </tr>\n",
       "    <tr>\n",
       "      <th>1</th>\n",
       "      <td>0.621777</td>\n",
       "      <td>0.000256</td>\n",
       "    </tr>\n",
       "    <tr>\n",
       "      <th>2</th>\n",
       "      <td>0.297639</td>\n",
       "      <td>0.000036</td>\n",
       "    </tr>\n",
       "    <tr>\n",
       "      <th>3</th>\n",
       "      <td>0.623486</td>\n",
       "      <td>0.000260</td>\n",
       "    </tr>\n",
       "    <tr>\n",
       "      <th>4</th>\n",
       "      <td>0.574399</td>\n",
       "      <td>0.000175</td>\n",
       "    </tr>\n",
       "  </tbody>\n",
       "</table>\n",
       "</div>"
      ],
      "text/plain": [
       "          x         y\n",
       "0  0.598418  0.000210\n",
       "1  0.621777  0.000256\n",
       "2  0.297639  0.000036\n",
       "3  0.623486  0.000260\n",
       "4  0.574399  0.000175"
      ]
     },
     "execution_count": 6,
     "metadata": {},
     "output_type": "execute_result"
    }
   ],
   "source": [
    "df.head()"
   ]
  },
  {
   "cell_type": "code",
   "execution_count": 26,
   "id": "fb2aec6f",
   "metadata": {},
   "outputs": [],
   "source": [
    "X = df.x.to_numpy().reshape(-1, 1)\n",
    "y = df.y.to_numpy().reshape(-1, 1)"
   ]
  },
  {
   "cell_type": "code",
   "execution_count": 27,
   "id": "caed38e1",
   "metadata": {},
   "outputs": [
    {
     "data": {
      "text/plain": [
       "<matplotlib.collections.PathCollection at 0x2b0e00090>"
      ]
     },
     "execution_count": 27,
     "metadata": {},
     "output_type": "execute_result"
    },
    {
     "data": {
      "image/png": "[encoded data removed]",
      "text/plain": [
       "<Figure size 640x480 with 1 Axes>"
      ]
     },
     "metadata": {},
     "output_type": "display_data"
    }
   ],
   "source": [
    "plt.scatter(X , y)"
   ]
  },
  {
   "cell_type": "code",
   "execution_count": null,
   "id": "4f5fffdd",
   "metadata": {},
   "outputs": [],
   "source": []
  },
  {
   "cell_type": "code",
   "execution_count": null,
   "id": "b5ea0583",
   "metadata": {},
   "outputs": [],
   "source": []
  },
  {
   "cell_type": "code",
   "execution_count": null,
   "id": "73c3bade",
   "metadata": {},
   "outputs": [],
   "source": []
  },
  {
   "cell_type": "code",
   "execution_count": 28,
   "id": "52d9d8d7",
   "metadata": {},
   "outputs": [],
   "source": [
    "from sklearn.model_selection import train_test_split \n",
    "X_train , X_test , y_train , y_test = train_test_split(X,y , random_state= 42 , test_size= 0.2)"
   ]
  },
  {
   "cell_type": "code",
   "execution_count": 29,
   "id": "f4b8e6a4",
   "metadata": {},
   "outputs": [],
   "source": [
    "default_pysr_params = dict(\n",
    "    populations=30,\n",
    "    model_selection=\"best\",\n",
    ")"
   ]
  },
  {
   "cell_type": "code",
   "execution_count": 30,
   "id": "cb76ce7f",
   "metadata": {},
   "outputs": [
    {
     "name": "stderr",
     "output_type": "stream",
     "text": [
      "/Users/chambo_enjoyer/anaconda3/lib/python3.11/site-packages/pysr/sr.py:1297: UserWarning: Note: it looks like you are running in Jupyter. The progress bar will be turned off.\n",
      "  warnings.warn(\n"
     ]
    },
    {
     "name": "stdout",
     "output_type": "stream",
     "text": [
      "Compiling Julia backend...\n"
     ]
    },
    {
     "name": "stderr",
     "output_type": "stream",
     "text": [
      "[ Info: Started!\n"
     ]
    },
    {
     "data": {
      "text/html": [
       "<style>#sk-container-id-1 {color: black;}#sk-container-id-1 pre{padding: 0;}#sk-container-id-1 div.sk-toggleable {background-color: white;}#sk-container-id-1 label.sk-toggleable__label {cursor: pointer;display: block;width: 100%;margin-bottom: 0;padding: 0.3em;box-sizing: border-box;text-align: center;}#sk-container-id-1 label.sk-toggleable__label-arrow:before {content: \"▸\";float: left;margin-right: 0.25em;color: #696969;}#sk-container-id-1 label.sk-toggleable__label-arrow:hover:before {color: black;}#sk-container-id-1 div.sk-estimator:hover label.sk-toggleable__label-arrow:before {color: black;}#sk-container-id-1 div.sk-toggleable__content {max-height: 0;max-width: 0;overflow: hidden;text-align: left;background-color: #f0f8ff;}#sk-container-id-1 div.sk-toggleable__content pre {margin: 0.2em;color: black;border-radius: 0.25em;background-color: #f0f8ff;}#sk-container-id-1 input.sk-toggleable__control:checked~div.sk-toggleable__content {max-height: 200px;max-width: 100%;overflow: auto;}#sk-container-id-1 input.sk-toggleable__control:checked~label.sk-toggleable__label-arrow:before {content: \"▾\";}#sk-container-id-1 div.sk-estimator input.sk-toggleable__control:checked~label.sk-toggleable__label {background-color: #d4ebff;}#sk-container-id-1 div.sk-label input.sk-toggleable__control:checked~label.sk-toggleable__label {background-color: #d4ebff;}#sk-container-id-1 input.sk-hidden--visually {border: 0;clip: rect(1px 1px 1px 1px);clip: rect(1px, 1px, 1px, 1px);height: 1px;margin: -1px;overflow: hidden;padding: 0;position: absolute;width: 1px;}#sk-container-id-1 div.sk-estimator {font-family: monospace;background-color: #f0f8ff;border: 1px dotted black;border-radius: 0.25em;box-sizing: border-box;margin-bottom: 0.5em;}#sk-container-id-1 div.sk-estimator:hover {background-color: #d4ebff;}#sk-container-id-1 div.sk-parallel-item::after {content: \"\";width: 100%;border-bottom: 1px solid gray;flex-grow: 1;}#sk-container-id-1 div.sk-label:hover label.sk-toggleable__label {background-color: #d4ebff;}#sk-container-id-1 div.sk-serial::before {content: \"\";position: absolute;border-left: 1px solid gray;box-sizing: border-box;top: 0;bottom: 0;left: 50%;z-index: 0;}#sk-container-id-1 div.sk-serial {display: flex;flex-direction: column;align-items: center;background-color: white;padding-right: 0.2em;padding-left: 0.2em;position: relative;}#sk-container-id-1 div.sk-item {position: relative;z-index: 1;}#sk-container-id-1 div.sk-parallel {display: flex;align-items: stretch;justify-content: center;background-color: white;position: relative;}#sk-container-id-1 div.sk-item::before, #sk-container-id-1 div.sk-parallel-item::before {content: \"\";position: absolute;border-left: 1px solid gray;box-sizing: border-box;top: 0;bottom: 0;left: 50%;z-index: -1;}#sk-container-id-1 div.sk-parallel-item {display: flex;flex-direction: column;z-index: 1;position: relative;background-color: white;}#sk-container-id-1 div.sk-parallel-item:first-child::after {align-self: flex-end;width: 50%;}#sk-container-id-1 div.sk-parallel-item:last-child::after {align-self: flex-start;width: 50%;}#sk-container-id-1 div.sk-parallel-item:only-child::after {width: 0;}#sk-container-id-1 div.sk-dashed-wrapped {border: 1px dashed gray;margin: 0 0.4em 0.5em 0.4em;box-sizing: border-box;padding-bottom: 0.4em;background-color: white;}#sk-container-id-1 div.sk-label label {font-family: monospace;font-weight: bold;display: inline-block;line-height: 1.2em;}#sk-container-id-1 div.sk-label-container {text-align: center;}#sk-container-id-1 div.sk-container {/* jupyter's `normalize.less` sets `[hidden] { display: none; }` but bootstrap.min.css set `[hidden] { display: none !important; }` so we also need the `!important` here to be able to override the default hidden behavior on the sphinx rendered scikit-learn.org. See: https://github.com/scikit-learn/scikit-learn/issues/21755 */display: inline-block !important;position: relative;}#sk-container-id-1 div.sk-text-repr-fallback {display: none;}</style><div id=\"sk-container-id-1\" class=\"sk-top-container\"><div class=\"sk-text-repr-fallback\"><pre>PySRRegressor.equations_ = [\n",
       "\t   pick     score                                           equation  \\\n",
       "\t0        0.000000                                       0.0001607798   \n",
       "\t1        0.528622                                (0.0003298514 * x0)   \n",
       "\t2        1.147332                           square(0.024268176 * x0)   \n",
       "\t3  &gt;&gt;&gt;&gt;  1.648987                    square(square(x0 * -0.2038458))   \n",
       "\t4        0.046364                square(square(cos(1.7747804) * x0))   \n",
       "\t5        0.124743    square(square((x0 + 0.043726876) * -0.1891359))   \n",
       "\t6        0.003791  ((1.8854195 * x0) * square(((square(1.2001994 ...   \n",
       "\t\n",
       "\t           loss  complexity  \n",
       "\t0  7.405786e-09           1  \n",
       "\t1  2.572858e-09           3  \n",
       "\t2  8.168381e-10           4  \n",
       "\t3  1.570327e-10           5  \n",
       "\t4  1.499182e-10           6  \n",
       "\t5  1.323364e-10           7  \n",
       "\t6  1.283833e-10          15  \n",
       "]</pre><b>In a Jupyter environment, please rerun this cell to show the HTML representation or trust the notebook. <br />On GitHub, the HTML representation is unable to render, please try loading this page with nbviewer.org.</b></div><div class=\"sk-container\" hidden><div class=\"sk-item\"><div class=\"sk-estimator sk-toggleable\"><input class=\"sk-toggleable__control sk-hidden--visually\" id=\"sk-estimator-id-1\" type=\"checkbox\" checked><label for=\"sk-estimator-id-1\" class=\"sk-toggleable__label sk-toggleable__label-arrow\">PySRRegressor</label><div class=\"sk-toggleable__content\"><pre>PySRRegressor.equations_ = [\n",
       "\t   pick     score                                           equation  \\\n",
       "\t0        0.000000                                       0.0001607798   \n",
       "\t1        0.528622                                (0.0003298514 * x0)   \n",
       "\t2        1.147332                           square(0.024268176 * x0)   \n",
       "\t3  &gt;&gt;&gt;&gt;  1.648987                    square(square(x0 * -0.2038458))   \n",
       "\t4        0.046364                square(square(cos(1.7747804) * x0))   \n",
       "\t5        0.124743    square(square((x0 + 0.043726876) * -0.1891359))   \n",
       "\t6        0.003791  ((1.8854195 * x0) * square(((square(1.2001994 ...   \n",
       "\t\n",
       "\t           loss  complexity  \n",
       "\t0  7.405786e-09           1  \n",
       "\t1  2.572858e-09           3  \n",
       "\t2  8.168381e-10           4  \n",
       "\t3  1.570327e-10           5  \n",
       "\t4  1.499182e-10           6  \n",
       "\t5  1.323364e-10           7  \n",
       "\t6  1.283833e-10          15  \n",
       "]</pre></div></div></div></div></div>"
      ],
      "text/plain": [
       "PySRRegressor.equations_ = [\n",
       "\t   pick     score                                           equation  \\\n",
       "\t0        0.000000                                       0.0001607798   \n",
       "\t1        0.528622                                (0.0003298514 * x0)   \n",
       "\t2        1.147332                           square(0.024268176 * x0)   \n",
       "\t3  >>>>  1.648987                    square(square(x0 * -0.2038458))   \n",
       "\t4        0.046364                square(square(cos(1.7747804) * x0))   \n",
       "\t5        0.124743    square(square((x0 + 0.043726876) * -0.1891359))   \n",
       "\t6        0.003791  ((1.8854195 * x0) * square(((square(1.2001994 ...   \n",
       "\t\n",
       "\t           loss  complexity  \n",
       "\t0  7.405786e-09           1  \n",
       "\t1  2.572858e-09           3  \n",
       "\t2  8.168381e-10           4  \n",
       "\t3  1.570327e-10           5  \n",
       "\t4  1.499182e-10           6  \n",
       "\t5  1.323364e-10           7  \n",
       "\t6  1.283833e-10          15  \n",
       "]"
      ]
     },
     "execution_count": 30,
     "metadata": {},
     "output_type": "execute_result"
    }
   ],
   "source": [
    "from pysr import PySRRegressor\n",
    "model = PySRRegressor(\n",
    "    niterations=5,\n",
    "    binary_operators=[\"+\", \"*\"],\n",
    "    unary_operators=[\"cos\", \"log2\", \"square\"],\n",
    "   \n",
    "    **default_pysr_params\n",
    ")\n",
    "\n",
    "model.fit(X_train, y_train) "
   ]
  },
  {
   "cell_type": "code",
   "execution_count": 31,
   "id": "f2f7b532",
   "metadata": {},
   "outputs": [
    {
     "data": {
      "text/latex": [
       "$\\displaystyle 0.00172666096543509 x_{0}^{4}$"
      ],
      "text/plain": [
       "0.00172666096543509*x0**4"
      ]
     },
     "execution_count": 31,
     "metadata": {},
     "output_type": "execute_result"
    }
   ],
   "source": [
    "model.sympy()"
   ]
  },
  {
   "cell_type": "code",
   "execution_count": 41,
   "id": "750ecd71",
   "metadata": {},
   "outputs": [
    {
     "data": {
      "text/plain": [
       "1.2990743567622717e-10"
      ]
     },
     "execution_count": 41,
     "metadata": {},
     "output_type": "execute_result"
    }
   ],
   "source": [
    "from sklearn.metrics import mean_squared_error ,mean_absolute_error , r2_score\n",
    "\n",
    "score = mean_squared_error(y_test ,model.predict(X_test) )\n",
    "score"
   ]
  },
  {
   "cell_type": "code",
   "execution_count": 33,
   "id": "38c01286",
   "metadata": {},
   "outputs": [
    {
     "data": {
      "text/plain": [
       "7.867443464472222e-05"
      ]
     },
     "execution_count": 33,
     "metadata": {},
     "output_type": "execute_result"
    }
   ],
   "source": [
    "y_test.std()"
   ]
  },
  {
   "cell_type": "code",
   "execution_count": 35,
   "id": "4833c000",
   "metadata": {},
   "outputs": [
    {
     "data": {
      "text/plain": [
       "1.5160763487403341e-10"
      ]
     },
     "execution_count": 35,
     "metadata": {},
     "output_type": "execute_result"
    }
   ],
   "source": [
    "df_test = pd.read_table('1test.dat'  ,sep=\"\\s+\" , usecols=['x', 'y']) \n",
    "X_main_test = df.x.to_numpy().reshape(-1, 1)\n",
    "y_main_test = df.y.to_numpy().reshape(-1, 1)\n",
    "precision_main  = model.predict(X_main_test)\n",
    "mse_score_main = mean_squared_error(y_main_test , precision_main )\n",
    "mse_score_main"
   ]
  },
  {
   "cell_type": "code",
   "execution_count": 37,
   "id": "878c695b",
   "metadata": {},
   "outputs": [
    {
     "data": {
      "text/plain": [
       "1.055674477934912e-05"
      ]
     },
     "execution_count": 37,
     "metadata": {},
     "output_type": "execute_result"
    }
   ],
   "source": [
    "mae_score = mean_absolute_error(y_main_test , precision_main )\n",
    "mae_score"
   ]
  },
  {
   "cell_type": "code",
   "execution_count": 39,
   "id": "0b4d96ff",
   "metadata": {},
   "outputs": [
    {
     "data": {
      "text/plain": [
       "8.489776963436017e-05"
      ]
     },
     "execution_count": 39,
     "metadata": {},
     "output_type": "execute_result"
    }
   ],
   "source": [
    "y_main_test.std()\n"
   ]
  },
  {
   "cell_type": "code",
   "execution_count": 42,
   "id": "ff8039bd",
   "metadata": {},
   "outputs": [
    {
     "data": {
      "text/plain": [
       "0.9789656783487596"
      ]
     },
     "execution_count": 42,
     "metadata": {},
     "output_type": "execute_result"
    }
   ],
   "source": [
    "r2_score = r2_score(y_main_test , precision_main)\n",
    "r2_score"
   ]
  },
  {
   "cell_type": "code",
   "execution_count": null,
   "id": "3ad17bbf",
   "metadata": {},
   "outputs": [],
   "source": []
  }
 ],
 "metadata": {
  "kernelspec": {
   "display_name": "Python 3 (ipykernel)",
   "language": "python",
   "name": "python3"
  },
  "language_info": {
   "codemirror_mode": {
    "name": "ipython",
    "version": 3
   },
   "file_extension": ".py",
   "mimetype": "text/x-python",
   "name": "python",
   "nbconvert_exporter": "python",
   "pygments_lexer": "ipython3",
   "version": "3.11.5"
  }
 },
 "nbformat": 4,
 "nbformat_minor": 5
}
